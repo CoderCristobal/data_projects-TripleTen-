{
 "cells": [
  {
   "cell_type": "markdown",
   "metadata": {},
   "source": [
    "# Goals and Overview"
   ]
  },
  {
   "cell_type": "markdown",
   "metadata": {},
   "source": [
    "The goal of this project is to develop a model that would analyze subscribers' behavior and recommend one of Megaline's newer plans: Smart or Ultra. I will begin b yreviewing the data, then looking over for missing and duplicate values. After I will attempt to enrich the data with any features I can add to improve accuracy. A variety of models and hyperparameters will be tested in order to find the best model for the current task. The models will be tested using a test set, and the best model will be selected based on the scores."
   ]
  },
  {
   "cell_type": "markdown",
   "metadata": {},
   "source": [
    "# Project"
   ]
  },
  {
   "cell_type": "markdown",
   "metadata": {},
   "source": [
    "## Initialization"
   ]
  },
  {
   "cell_type": "code",
   "execution_count": 2,
   "metadata": {},
   "outputs": [],
   "source": [
    "#Loading necessary libraries.\n",
    "import pandas as pd\n",
    "from sklearn.model_selection import train_test_split, GridSearchCV\n",
    "from sklearn.tree import DecisionTreeClassifier\n",
    "from sklearn.metrics import  accuracy_score\n",
    "from sklearn.ensemble import RandomForestClassifier\n",
    "from sklearn.linear_model import LogisticRegression"
   ]
  },
  {
   "cell_type": "markdown",
   "metadata": {},
   "source": [
    "## Reading Data"
   ]
  },
  {
   "cell_type": "code",
   "execution_count": 3,
   "metadata": {},
   "outputs": [],
   "source": [
    "#Reading Data.\n",
    "df = pd.read_csv('./datasets/users_behavior.csv')"
   ]
  },
  {
   "cell_type": "code",
   "execution_count": 4,
   "metadata": {},
   "outputs": [
    {
     "data": {
      "text/html": [
       "<div>\n",
       "<style scoped>\n",
       "    .dataframe tbody tr th:only-of-type {\n",
       "        vertical-align: middle;\n",
       "    }\n",
       "\n",
       "    .dataframe tbody tr th {\n",
       "        vertical-align: top;\n",
       "    }\n",
       "\n",
       "    .dataframe thead th {\n",
       "        text-align: right;\n",
       "    }\n",
       "</style>\n",
       "<table border=\"1\" class=\"dataframe\">\n",
       "  <thead>\n",
       "    <tr style=\"text-align: right;\">\n",
       "      <th></th>\n",
       "      <th>calls</th>\n",
       "      <th>minutes</th>\n",
       "      <th>messages</th>\n",
       "      <th>mb_used</th>\n",
       "      <th>is_ultra</th>\n",
       "    </tr>\n",
       "  </thead>\n",
       "  <tbody>\n",
       "    <tr>\n",
       "      <th>0</th>\n",
       "      <td>40.0</td>\n",
       "      <td>311.90</td>\n",
       "      <td>83.0</td>\n",
       "      <td>19915.42</td>\n",
       "      <td>0</td>\n",
       "    </tr>\n",
       "    <tr>\n",
       "      <th>1</th>\n",
       "      <td>85.0</td>\n",
       "      <td>516.75</td>\n",
       "      <td>56.0</td>\n",
       "      <td>22696.96</td>\n",
       "      <td>0</td>\n",
       "    </tr>\n",
       "    <tr>\n",
       "      <th>2</th>\n",
       "      <td>77.0</td>\n",
       "      <td>467.66</td>\n",
       "      <td>86.0</td>\n",
       "      <td>21060.45</td>\n",
       "      <td>0</td>\n",
       "    </tr>\n",
       "    <tr>\n",
       "      <th>3</th>\n",
       "      <td>106.0</td>\n",
       "      <td>745.53</td>\n",
       "      <td>81.0</td>\n",
       "      <td>8437.39</td>\n",
       "      <td>1</td>\n",
       "    </tr>\n",
       "    <tr>\n",
       "      <th>4</th>\n",
       "      <td>66.0</td>\n",
       "      <td>418.74</td>\n",
       "      <td>1.0</td>\n",
       "      <td>14502.75</td>\n",
       "      <td>0</td>\n",
       "    </tr>\n",
       "    <tr>\n",
       "      <th>...</th>\n",
       "      <td>...</td>\n",
       "      <td>...</td>\n",
       "      <td>...</td>\n",
       "      <td>...</td>\n",
       "      <td>...</td>\n",
       "    </tr>\n",
       "    <tr>\n",
       "      <th>3209</th>\n",
       "      <td>122.0</td>\n",
       "      <td>910.98</td>\n",
       "      <td>20.0</td>\n",
       "      <td>35124.90</td>\n",
       "      <td>1</td>\n",
       "    </tr>\n",
       "    <tr>\n",
       "      <th>3210</th>\n",
       "      <td>25.0</td>\n",
       "      <td>190.36</td>\n",
       "      <td>0.0</td>\n",
       "      <td>3275.61</td>\n",
       "      <td>0</td>\n",
       "    </tr>\n",
       "    <tr>\n",
       "      <th>3211</th>\n",
       "      <td>97.0</td>\n",
       "      <td>634.44</td>\n",
       "      <td>70.0</td>\n",
       "      <td>13974.06</td>\n",
       "      <td>0</td>\n",
       "    </tr>\n",
       "    <tr>\n",
       "      <th>3212</th>\n",
       "      <td>64.0</td>\n",
       "      <td>462.32</td>\n",
       "      <td>90.0</td>\n",
       "      <td>31239.78</td>\n",
       "      <td>0</td>\n",
       "    </tr>\n",
       "    <tr>\n",
       "      <th>3213</th>\n",
       "      <td>80.0</td>\n",
       "      <td>566.09</td>\n",
       "      <td>6.0</td>\n",
       "      <td>29480.52</td>\n",
       "      <td>1</td>\n",
       "    </tr>\n",
       "  </tbody>\n",
       "</table>\n",
       "<p>3214 rows × 5 columns</p>\n",
       "</div>"
      ],
      "text/plain": [
       "      calls  minutes  messages   mb_used  is_ultra\n",
       "0      40.0   311.90      83.0  19915.42         0\n",
       "1      85.0   516.75      56.0  22696.96         0\n",
       "2      77.0   467.66      86.0  21060.45         0\n",
       "3     106.0   745.53      81.0   8437.39         1\n",
       "4      66.0   418.74       1.0  14502.75         0\n",
       "...     ...      ...       ...       ...       ...\n",
       "3209  122.0   910.98      20.0  35124.90         1\n",
       "3210   25.0   190.36       0.0   3275.61         0\n",
       "3211   97.0   634.44      70.0  13974.06         0\n",
       "3212   64.0   462.32      90.0  31239.78         0\n",
       "3213   80.0   566.09       6.0  29480.52         1\n",
       "\n",
       "[3214 rows x 5 columns]"
      ]
     },
     "execution_count": 4,
     "metadata": {},
     "output_type": "execute_result"
    }
   ],
   "source": [
    "#Looking at 'df'.\n",
    "df"
   ]
  },
  {
   "cell_type": "code",
   "execution_count": 5,
   "metadata": {},
   "outputs": [
    {
     "name": "stdout",
     "output_type": "stream",
     "text": [
      "<class 'pandas.core.frame.DataFrame'>\n",
      "RangeIndex: 3214 entries, 0 to 3213\n",
      "Data columns (total 5 columns):\n",
      " #   Column    Non-Null Count  Dtype  \n",
      "---  ------    --------------  -----  \n",
      " 0   calls     3214 non-null   float64\n",
      " 1   minutes   3214 non-null   float64\n",
      " 2   messages  3214 non-null   float64\n",
      " 3   mb_used   3214 non-null   float64\n",
      " 4   is_ultra  3214 non-null   int64  \n",
      "dtypes: float64(4), int64(1)\n",
      "memory usage: 125.7 KB\n"
     ]
    }
   ],
   "source": [
    "#Looking at 'df' info().\n",
    "df.info()"
   ]
  },
  {
   "cell_type": "markdown",
   "metadata": {},
   "source": [
    "Datatypes for 'calls' and 'minutes' could be changed to int64, but are fine as are. All other data types are correct, and there seems to be no missing values."
   ]
  },
  {
   "cell_type": "markdown",
   "metadata": {},
   "source": [
    "__Missing Values__"
   ]
  },
  {
   "cell_type": "code",
   "execution_count": null,
   "metadata": {},
   "outputs": [],
   "source": [
    "#Checking for missing values.\n",
    "df.isna().sum()"
   ]
  },
  {
   "cell_type": "markdown",
   "metadata": {},
   "source": [
    "No missing values confirmed."
   ]
  },
  {
   "cell_type": "markdown",
   "metadata": {},
   "source": [
    "__Duplicated Values__"
   ]
  },
  {
   "cell_type": "code",
   "execution_count": null,
   "metadata": {},
   "outputs": [],
   "source": [
    "#Chekcing for duplicate values.\n",
    "df[df.duplicated()]"
   ]
  },
  {
   "cell_type": "markdown",
   "metadata": {},
   "source": [
    "There are no duplicated rows."
   ]
  },
  {
   "cell_type": "markdown",
   "metadata": {},
   "source": [
    "## Data Preparation"
   ]
  },
  {
   "cell_type": "code",
   "execution_count": null,
   "metadata": {},
   "outputs": [],
   "source": []
  },
  {
   "cell_type": "code",
   "execution_count": null,
   "metadata": {},
   "outputs": [],
   "source": [
    "df"
   ]
  },
  {
   "cell_type": "markdown",
   "metadata": {},
   "source": [
    "Adding an 'average_call_time' was considered, however I don't think these values are as impactful as 'calls' and 'minutes' which are already part of the data set."
   ]
  },
  {
   "cell_type": "markdown",
   "metadata": {},
   "source": [
    "## Model Exploration"
   ]
  },
  {
   "cell_type": "code",
   "execution_count": null,
   "metadata": {},
   "outputs": [],
   "source": [
    "# Setting Random State\n",
    "rs = 12345"
   ]
  },
  {
   "cell_type": "markdown",
   "metadata": {},
   "source": [
    "### Data Splitting"
   ]
  },
  {
   "cell_type": "code",
   "execution_count": null,
   "metadata": {},
   "outputs": [],
   "source": [
    "#Splitting 'df' into 'df_train' and 'df_valid_test'. 'df_valid_test' will be split again below.\n",
    "df_train, df_valid_test = train_test_split(df, test_size=0.4, random_state=rs)\n",
    "\n",
    "#Splitting 'df_valid_test' into 'df_valid' and 'df_test'.\n",
    "df_valid, df_test = train_test_split(df_valid_test, test_size=0.5, random_state=rs)"
   ]
  },
  {
   "cell_type": "code",
   "execution_count": null,
   "metadata": {},
   "outputs": [],
   "source": [
    "#Assigning to 'features_train' all columns except 'is_ultra'.\n",
    "features_train = df_train.drop(['is_ultra'], axis=1)\n",
    "\n",
    "#Assigning to 'target_train' the 'is_ultra' column.\n",
    "target_train = df_train['is_ultra']"
   ]
  },
  {
   "cell_type": "code",
   "execution_count": null,
   "metadata": {},
   "outputs": [],
   "source": [
    "#Assigning to 'features_valid' all columns except 'is_ultra'.\n",
    "features_valid = df_valid.drop(['is_ultra'], axis=1)\n",
    "\n",
    "#Assigning to 'target_valid' the 'is_ultra' column.\n",
    "target_valid = df_valid['is_ultra']"
   ]
  },
  {
   "cell_type": "code",
   "execution_count": null,
   "metadata": {},
   "outputs": [],
   "source": [
    "#Assigning to 'features_test' all columns except 'is_ultra'.\n",
    "features_test = df_test.drop(['is_ultra'], axis=1)\n",
    "\n",
    "#Assigning to 'target_test' the 'is_ultra' column.\n",
    "target_test = df_test['is_ultra']"
   ]
  },
  {
   "cell_type": "markdown",
   "metadata": {},
   "source": [
    "'df' has been split into 'df_train', 'df_valid', and 'df_test', and those three have been further split into feature and target variations."
   ]
  },
  {
   "cell_type": "code",
   "execution_count": null,
   "metadata": {},
   "outputs": [],
   "source": [
    "print(features_train.shape)\n",
    "print(target_train.shape)\n",
    "print(features_valid.shape)\n",
    "print(target_valid.shape)\n",
    "print(features_test.shape)\n",
    "print(target_test.shape)"
   ]
  },
  {
   "cell_type": "markdown",
   "metadata": {},
   "source": [
    "### Testing Various Models and Hyperparameters"
   ]
  },
  {
   "cell_type": "markdown",
   "metadata": {},
   "source": []
  },
  {
   "cell_type": "code",
   "execution_count": null,
   "metadata": {},
   "outputs": [],
   "source": [
    "#Defining the hyperparameters grid.\n",
    "param_grid = {\n",
    "    'max_depth': [1, 2, 3, 4, 5],\n",
    "    'criterion': ['gini', 'entropy'],\n",
    "    'class_weight': [None, 'balanced']\n",
    "}\n",
    "\n",
    "#Initializing DecisionTreeClassifier model.\n",
    "dtc_model = DecisionTreeClassifier(random_state=12345)\n",
    "\n",
    "#Searching for the best combination of hyperparameters.\n",
    "grid_search = GridSearchCV(dtc_model, param_grid, cv=5, scoring='accuracy')\n",
    "grid_search.fit(features_train, target_train)\n",
    "\n",
    "#Assigning to 'best_params' the best hyperparameters.\n",
    "best_params = grid_search.best_params_\n",
    "\n",
    "#Training Model using 'features_train' and 'target train'.\n",
    "best_dtc_model = DecisionTreeClassifier(**best_params, random_state=12345)\n",
    "best_dtc_model.fit(features_train, target_train)\n",
    "\n",
    "#Assigning to 'train_accuracy' score based on training values.\n",
    "train_accuracy = best_dtc_model.score(features_train, target_train)\n",
    "\n",
    "#Assigning to 'train_accuracy' score based on validation values.\n",
    "valid_accuracy = best_dtc_model.score(features_valid, target_valid)\n",
    "\n",
    "#Printing findings.\n",
    "print(\"Best hyperparameters:\", best_params)\n",
    "print(\"Accuracy on the training set:\", train_accuracy)\n",
    "print(\"Accuracy on the validation set:\", valid_accuracy)"
   ]
  },
  {
   "cell_type": "markdown",
   "metadata": {},
   "source": [
    "Based on the hyperparameters obtained through grid search, the best combination includes using the entropy criterion for splitting nodes and limiting the maximum depth of the tree to 3. The model achieved an accuracy of approximately 80.91% on the training set and 79.00% on the validation set."
   ]
  },
  {
   "cell_type": "code",
   "execution_count": null,
   "metadata": {},
   "outputs": [],
   "source": [
    "#Defining the hyperparameters grid.\n",
    "param_grid = {\n",
    "    'n_estimators': [1, 2, 3, 4, 5, 6, 7, 8, 9, 10, 11, 12, 13, 14, 15, 16, 17, 18, 19, 20],\n",
    "    'max_depth': [None, 10, 20, 30, 40, 50]\n",
    "}\n",
    "\n",
    "#Initializing RandomForestClassifier model.\n",
    "rfc_model = RandomForestClassifier(random_state=12345)\n",
    "\n",
    "#Searching for the best combination of hyperparameters.\n",
    "grid_search = GridSearchCV(rfc_model, param_grid, cv=7, scoring='accuracy')\n",
    "grid_search.fit(features_train, target_train)\n",
    "\n",
    "#Assigning to 'best_params' the best hyperparameters.\n",
    "best_params = grid_search.best_params_\n",
    "\n",
    "#Training Model using 'features_train' and 'target train'.\n",
    "best_rfc_model = RandomForestClassifier(**best_params, random_state=12345)\n",
    "best_rfc_model.fit(features_train, target_train)\n",
    "\n",
    "#Assigning to 'train_accuracy' score based on training values.\n",
    "train_accuracy = best_rfc_model.score(features_train, target_train)\n",
    "\n",
    "#Assigning to 'train_accuracy' score based on validation values.\n",
    "valid_accuracy = best_rfc_model.score(features_valid, target_valid)\n",
    "\n",
    "#Printing findings.\n",
    "print(\"Best hyperparameters:\", best_params)\n",
    "print(\"Accuracy on the training set:\", train_accuracy)\n",
    "print(\"Accuracy on the validation set:\", valid_accuracy)"
   ]
  },
  {
   "cell_type": "markdown",
   "metadata": {},
   "source": [
    "The best hyperparameters obtained are a max_depth of 10 and n_estimators of 20. With these settings, the random forest model achieved an accuracy of approximately 88.85% on the training set and 79.63% on the validation set."
   ]
  },
  {
   "cell_type": "code",
   "execution_count": null,
   "metadata": {},
   "outputs": [],
   "source": [
    "#Defining the hyperparameters grid.\n",
    "param_grid = {\n",
    "    'penalty': ['l1', 'l2'],\n",
    "    'C': [0.1, 1.0, 10.0],\n",
    "    'solver': ['liblinear', 'saga'],\n",
    "    'max_iter': [100, 200, 300],\n",
    "    \n",
    "}\n",
    "\n",
    "#Initializing LogisticRegression model.\n",
    "lr_model = LogisticRegression(random_state=12345)\n",
    "\n",
    "#Searching for the best combination of hyperparameters.\n",
    "grid_search = GridSearchCV(lr_model, param_grid, cv=5, scoring='accuracy')\n",
    "grid_search.fit(features_train, target_train)\n",
    "\n",
    "#Assigning to 'best_params' the best hyperparameters.\n",
    "best_params = grid_search.best_params_\n",
    "\n",
    "#Training Model using 'features_train' and 'target train'.\n",
    "best_lr_model = LogisticRegression(**best_params, random_state=12345)\n",
    "best_lr_model.fit(features_train, target_train)\n",
    "\n",
    "#Assigning to 'train_accuracy' score based on training values.\n",
    "train_accuracy = best_lr_model.score(features_train, target_train)\n",
    "\n",
    "#Assigning to 'train_accuracy' score based on validation values.\n",
    "valid_accuracy = best_lr_model.score(features_valid, target_valid)\n",
    "\n",
    "#Printing findings.\n",
    "print(\"Best hyperparameters:\", best_params)\n",
    "print(\"Accuracy on the training set:\", train_accuracy)\n",
    "print(\"Accuracy on the validation set:\", valid_accuracy)"
   ]
  },
  {
   "cell_type": "markdown",
   "metadata": {},
   "source": [
    "Based on the Grid Search, the best hyperparameters for the LogisticRegression model are: 'C': 10.0, 'max_iter': 100, 'penalty': 'l1', 'solver': 'liblinear'. These hyperparameters give the model an accuracy of 0.7531120331950207 on the training set, and 0.7558320373250389 on the validation set.\n",
    "\n",
    "In summary, the RandomForestClassifier outperformed the other models on the validation set, while the DecisionTreeClassifier and LogisticRegression models showed slightly lower performance."
   ]
  },
  {
   "cell_type": "markdown",
   "metadata": {},
   "source": [
    "### Checking for Accuracy"
   ]
  },
  {
   "cell_type": "code",
   "execution_count": null,
   "metadata": {},
   "outputs": [],
   "source": [
    "dtc_test_predictions = best_dtc_model.predict(features_test)"
   ]
  },
  {
   "cell_type": "code",
   "execution_count": null,
   "metadata": {},
   "outputs": [],
   "source": [
    "rfc_test_predictions = best_rfc_model.predict(features_test)"
   ]
  },
  {
   "cell_type": "code",
   "execution_count": null,
   "metadata": {},
   "outputs": [],
   "source": [
    "lr_test_predictions = best_lr_model.predict(features_test)"
   ]
  },
  {
   "cell_type": "code",
   "execution_count": null,
   "metadata": {},
   "outputs": [],
   "source": [
    "print(\"Accuracy on test set for DesicionTreeClassifier:\", accuracy_score(target_test, dtc_test_predictions))"
   ]
  },
  {
   "cell_type": "code",
   "execution_count": null,
   "metadata": {},
   "outputs": [],
   "source": [
    "print(\"Accuracy on test set for RandomForestClassifier:\", accuracy_score(target_test, rfc_test_predictions))"
   ]
  },
  {
   "cell_type": "code",
   "execution_count": null,
   "metadata": {},
   "outputs": [],
   "source": [
    "print(\"Accuracy on test set for LogisticRegression:\", accuracy_score(target_test, lr_test_predictions))"
   ]
  },
  {
   "cell_type": "markdown",
   "metadata": {},
   "source": [
    "## Final Model"
   ]
  },
  {
   "cell_type": "code",
   "execution_count": null,
   "metadata": {},
   "outputs": [],
   "source": [
    "final_model = RandomForestClassifier(random_state=12345, max_depth= 10, n_estimators= 20)\n",
    "final_model.fit(features_train, target_train)"
   ]
  },
  {
   "cell_type": "code",
   "execution_count": null,
   "metadata": {},
   "outputs": [],
   "source": [
    "test_predictions = final_model.predict(features_test)"
   ]
  },
  {
   "cell_type": "code",
   "execution_count": null,
   "metadata": {},
   "outputs": [],
   "source": [
    "print(\"Accuracy on test set for Final Model:\", accuracy_score(target_test, test_predictions))"
   ]
  },
  {
   "cell_type": "markdown",
   "metadata": {},
   "source": [
    "## Conclusion"
   ]
  },
  {
   "cell_type": "markdown",
   "metadata": {},
   "source": [
    "In conclusion, after testing a variety of models and hyperparameters, the RandomForestClassifier using (max_depth=10, n_estimators=20, random_state=12345) stood out as the best model for analyzing subscribers' behavior and recommending an appropriate Megaline plan."
   ]
  }
 ],
 "metadata": {
  "kernelspec": {
   "display_name": "Python 3",
   "language": "python",
   "name": "python3"
  },
  "language_info": {
   "codemirror_mode": {
    "name": "ipython",
    "version": 3
   },
   "file_extension": ".py",
   "mimetype": "text/x-python",
   "name": "python",
   "nbconvert_exporter": "python",
   "pygments_lexer": "ipython3",
   "version": "3.12.1"
  }
 },
 "nbformat": 4,
 "nbformat_minor": 2
}
