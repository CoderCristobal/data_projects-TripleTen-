{
 "cells": [
  {
   "cell_type": "markdown",
   "metadata": {},
   "source": [
    "# Goals and Overview"
   ]
  },
  {
   "cell_type": "markdown",
   "metadata": {},
   "source": [
    "The goal of this project is to prepare a prototype of a machine learning model that predicts the amount of gold recovered from gold ore. I will Prepare the data, perform data analysis, and develop and train a model."
   ]
  },
  {
   "cell_type": "markdown",
   "metadata": {},
   "source": [
    "# Project"
   ]
  },
  {
   "cell_type": "markdown",
   "metadata": {},
   "source": [
    "## Initialization"
   ]
  },
  {
   "cell_type": "code",
   "execution_count": 1,
   "metadata": {},
   "outputs": [],
   "source": [
    "# Loading necessary libraries.\n",
    "import pandas as pd\n",
    "from sklearn.metrics import mean_absolute_error\n",
    "import matplotlib.pyplot as plt\n",
    "import seaborn as sns\n",
    "import numpy as np\n",
    "from sklearn.model_selection import train_test_split, GridSearchCV, cross_val_score\n",
    "from sklearn.linear_model import LinearRegression\n",
    "from sklearn.metrics import mean_squared_error, make_scorer\n",
    "from sklearn.tree import DecisionTreeRegressor\n",
    "from sklearn.ensemble import RandomForestRegressor\n",
    "from scipy import stats as st\n",
    "from sklearn.dummy import DummyRegressor"
   ]
  },
  {
   "cell_type": "markdown",
   "metadata": {},
   "source": [
    "## Reading Data"
   ]
  },
  {
   "cell_type": "code",
   "execution_count": 2,
   "metadata": {},
   "outputs": [],
   "source": [
    "train_df = pd.read_csv('./datasets/gold_recovery_train.csv')\n",
    "test_df = pd.read_csv('./datasets/gold_recovery_test.csv')\n",
    "full_df = pd.read_csv('./datasets/gold_recovery_full.csv')"
   ]
  },
  {
   "cell_type": "code",
   "execution_count": 3,
   "metadata": {},
   "outputs": [
    {
     "name": "stdout",
     "output_type": "stream",
     "text": [
      "<class 'pandas.core.frame.DataFrame'>\n",
      "RangeIndex: 16860 entries, 0 to 16859\n",
      "Data columns (total 87 columns):\n",
      " #   Column                                              Non-Null Count  Dtype  \n",
      "---  ------                                              --------------  -----  \n",
      " 0   date                                                16860 non-null  object \n",
      " 1   final.output.concentrate_ag                         16788 non-null  float64\n",
      " 2   final.output.concentrate_pb                         16788 non-null  float64\n",
      " 3   final.output.concentrate_sol                        16490 non-null  float64\n",
      " 4   final.output.concentrate_au                         16789 non-null  float64\n",
      " 5   final.output.recovery                               15339 non-null  float64\n",
      " 6   final.output.tail_ag                                16794 non-null  float64\n",
      " 7   final.output.tail_pb                                16677 non-null  float64\n",
      " 8   final.output.tail_sol                               16715 non-null  float64\n",
      " 9   final.output.tail_au                                16794 non-null  float64\n",
      " 10  primary_cleaner.input.sulfate                       15553 non-null  float64\n",
      " 11  primary_cleaner.input.depressant                    15598 non-null  float64\n",
      " 12  primary_cleaner.input.feed_size                     16860 non-null  float64\n",
      " 13  primary_cleaner.input.xanthate                      15875 non-null  float64\n",
      " 14  primary_cleaner.output.concentrate_ag               16778 non-null  float64\n",
      " 15  primary_cleaner.output.concentrate_pb               16502 non-null  float64\n",
      " 16  primary_cleaner.output.concentrate_sol              16224 non-null  float64\n",
      " 17  primary_cleaner.output.concentrate_au               16778 non-null  float64\n",
      " 18  primary_cleaner.output.tail_ag                      16777 non-null  float64\n",
      " 19  primary_cleaner.output.tail_pb                      16761 non-null  float64\n",
      " 20  primary_cleaner.output.tail_sol                     16579 non-null  float64\n",
      " 21  primary_cleaner.output.tail_au                      16777 non-null  float64\n",
      " 22  primary_cleaner.state.floatbank8_a_air              16820 non-null  float64\n",
      " 23  primary_cleaner.state.floatbank8_a_level            16827 non-null  float64\n",
      " 24  primary_cleaner.state.floatbank8_b_air              16820 non-null  float64\n",
      " 25  primary_cleaner.state.floatbank8_b_level            16833 non-null  float64\n",
      " 26  primary_cleaner.state.floatbank8_c_air              16822 non-null  float64\n",
      " 27  primary_cleaner.state.floatbank8_c_level            16833 non-null  float64\n",
      " 28  primary_cleaner.state.floatbank8_d_air              16821 non-null  float64\n",
      " 29  primary_cleaner.state.floatbank8_d_level            16833 non-null  float64\n",
      " 30  rougher.calculation.sulfate_to_au_concentrate       16833 non-null  float64\n",
      " 31  rougher.calculation.floatbank10_sulfate_to_au_feed  16833 non-null  float64\n",
      " 32  rougher.calculation.floatbank11_sulfate_to_au_feed  16833 non-null  float64\n",
      " 33  rougher.calculation.au_pb_ratio                     15618 non-null  float64\n",
      " 34  rougher.input.feed_ag                               16778 non-null  float64\n",
      " 35  rougher.input.feed_pb                               16632 non-null  float64\n",
      " 36  rougher.input.feed_rate                             16347 non-null  float64\n",
      " 37  rougher.input.feed_size                             16443 non-null  float64\n",
      " 38  rougher.input.feed_sol                              16568 non-null  float64\n",
      " 39  rougher.input.feed_au                               16777 non-null  float64\n",
      " 40  rougher.input.floatbank10_sulfate                   15816 non-null  float64\n",
      " 41  rougher.input.floatbank10_xanthate                  16514 non-null  float64\n",
      " 42  rougher.input.floatbank11_sulfate                   16237 non-null  float64\n",
      " 43  rougher.input.floatbank11_xanthate                  14956 non-null  float64\n",
      " 44  rougher.output.concentrate_ag                       16778 non-null  float64\n",
      " 45  rougher.output.concentrate_pb                       16778 non-null  float64\n",
      " 46  rougher.output.concentrate_sol                      16698 non-null  float64\n",
      " 47  rougher.output.concentrate_au                       16778 non-null  float64\n",
      " 48  rougher.output.recovery                             14287 non-null  float64\n",
      " 49  rougher.output.tail_ag                              14610 non-null  float64\n",
      " 50  rougher.output.tail_pb                              16778 non-null  float64\n",
      " 51  rougher.output.tail_sol                             14611 non-null  float64\n",
      " 52  rougher.output.tail_au                              14611 non-null  float64\n",
      " 53  rougher.state.floatbank10_a_air                     16807 non-null  float64\n",
      " 54  rougher.state.floatbank10_a_level                   16807 non-null  float64\n",
      " 55  rougher.state.floatbank10_b_air                     16807 non-null  float64\n",
      " 56  rougher.state.floatbank10_b_level                   16807 non-null  float64\n",
      " 57  rougher.state.floatbank10_c_air                     16807 non-null  float64\n",
      " 58  rougher.state.floatbank10_c_level                   16814 non-null  float64\n",
      " 59  rougher.state.floatbank10_d_air                     16802 non-null  float64\n",
      " 60  rougher.state.floatbank10_d_level                   16809 non-null  float64\n",
      " 61  rougher.state.floatbank10_e_air                     16257 non-null  float64\n",
      " 62  rougher.state.floatbank10_e_level                   16809 non-null  float64\n",
      " 63  rougher.state.floatbank10_f_air                     16802 non-null  float64\n",
      " 64  rougher.state.floatbank10_f_level                   16802 non-null  float64\n",
      " 65  secondary_cleaner.output.tail_ag                    16776 non-null  float64\n",
      " 66  secondary_cleaner.output.tail_pb                    16764 non-null  float64\n",
      " 67  secondary_cleaner.output.tail_sol                   14874 non-null  float64\n",
      " 68  secondary_cleaner.output.tail_au                    16778 non-null  float64\n",
      " 69  secondary_cleaner.state.floatbank2_a_air            16497 non-null  float64\n",
      " 70  secondary_cleaner.state.floatbank2_a_level          16751 non-null  float64\n",
      " 71  secondary_cleaner.state.floatbank2_b_air            16705 non-null  float64\n",
      " 72  secondary_cleaner.state.floatbank2_b_level          16748 non-null  float64\n",
      " 73  secondary_cleaner.state.floatbank3_a_air            16763 non-null  float64\n",
      " 74  secondary_cleaner.state.floatbank3_a_level          16747 non-null  float64\n",
      " 75  secondary_cleaner.state.floatbank3_b_air            16752 non-null  float64\n",
      " 76  secondary_cleaner.state.floatbank3_b_level          16750 non-null  float64\n",
      " 77  secondary_cleaner.state.floatbank4_a_air            16731 non-null  float64\n",
      " 78  secondary_cleaner.state.floatbank4_a_level          16747 non-null  float64\n",
      " 79  secondary_cleaner.state.floatbank4_b_air            16768 non-null  float64\n",
      " 80  secondary_cleaner.state.floatbank4_b_level          16767 non-null  float64\n",
      " 81  secondary_cleaner.state.floatbank5_a_air            16775 non-null  float64\n",
      " 82  secondary_cleaner.state.floatbank5_a_level          16775 non-null  float64\n",
      " 83  secondary_cleaner.state.floatbank5_b_air            16775 non-null  float64\n",
      " 84  secondary_cleaner.state.floatbank5_b_level          16776 non-null  float64\n",
      " 85  secondary_cleaner.state.floatbank6_a_air            16757 non-null  float64\n",
      " 86  secondary_cleaner.state.floatbank6_a_level          16775 non-null  float64\n",
      "dtypes: float64(86), object(1)\n",
      "memory usage: 11.2+ MB\n"
     ]
    }
   ],
   "source": [
    "train_df.info()"
   ]
  },
  {
   "cell_type": "markdown",
   "metadata": {},
   "source": [
    "The training dataset has many features regarding the quantity of resources used and produced throughout the process, as well as parameters of stages. All values seem to be of the appropriate 'float64' datatype, due to quantities of resources being best expressed as real numbers.\n",
    "\n",
    "There also seems to be missing values for many rows in various columns. This will be explored below."
   ]
  },
  {
   "cell_type": "code",
   "execution_count": null,
   "metadata": {},
   "outputs": [],
   "source": [
    "test_df.info()"
   ]
  },
  {
   "cell_type": "markdown",
   "metadata": {},
   "source": [
    "The test dataframe is not as large as the training one, having both fewer rows and columns. Like before, all columns are of the appropriate 'float64' datatype for the same reasons as discussed above.\n",
    "\n",
    "There is also a variation in the amount of non-null values, and will be explored below."
   ]
  },
  {
   "cell_type": "code",
   "execution_count": null,
   "metadata": {},
   "outputs": [],
   "source": [
    "full_df.info()"
   ]
  },
  {
   "cell_type": "code",
   "execution_count": null,
   "metadata": {},
   "outputs": [],
   "source": [
    "def recovery_check(df):\n",
    "    df = df.dropna()\n",
    "    \n",
    "    concentrate = df['rougher.output.concentrate_au']\n",
    "    feed = df['rougher.input.feed_au']\n",
    "    tail = df['rougher.output.tail_au'] \n",
    "    recovery = df['rougher.output.recovery']\n",
    "    \n",
    "    calculated_recovery = ((concentrate * (feed - tail)) / (feed * (concentrate - tail))) * 100\n",
    "    mae = mean_absolute_error(recovery, calculated_recovery)\n",
    "    \n",
    "    print(mae)\n",
    "    return calculated_recovery"
   ]
  },
  {
   "cell_type": "code",
   "execution_count": null,
   "metadata": {},
   "outputs": [],
   "source": [
    "calc_reco = recovery_check(train_df)"
   ]
  },
  {
   "cell_type": "markdown",
   "metadata": {},
   "source": [
    "Based on the MAE of 9.460144184559453e-15, the recovery values in the train dataframe are very accurate, being very close to exactly the calculated values."
   ]
  },
  {
   "cell_type": "code",
   "execution_count": null,
   "metadata": {},
   "outputs": [],
   "source": [
    "calc_reco = recovery_check(full_df)"
   ]
  },
  {
   "cell_type": "markdown",
   "metadata": {},
   "source": [
    "The same applies to the full dataframe."
   ]
  },
  {
   "cell_type": "markdown",
   "metadata": {},
   "source": [
    "### Missing Features"
   ]
  },
  {
   "cell_type": "code",
   "execution_count": null,
   "metadata": {},
   "outputs": [],
   "source": [
    "missing_feat = []\n",
    "for col in train_df.columns:\n",
    "    if col not in test_df.columns:\n",
    "        missing_feat.append(col)\n",
    "\n",
    "print('Missing Features in test_df:')\n",
    "missing_feat"
   ]
  },
  {
   "cell_type": "markdown",
   "metadata": {},
   "source": [
    "The test dataframe is missing many features contained in the training dataframe, mainly the output parameters for the various stages of the process as well as a few calculation parameters. Those features will be removed from the training dataframe for the training of the model, as the model will not have those features to make predictions when it comes to the test dataframe."
   ]
  },
  {
   "cell_type": "markdown",
   "metadata": {},
   "source": [
    "### Missing Values"
   ]
  },
  {
   "cell_type": "code",
   "execution_count": null,
   "metadata": {},
   "outputs": [],
   "source": [
    "train_df.isna().sum().head(40)"
   ]
  },
  {
   "cell_type": "code",
   "execution_count": null,
   "metadata": {},
   "outputs": [],
   "source": [
    "train_df.isna().sum().tail(46).sort_values(ascending=False)"
   ]
  },
  {
   "cell_type": "markdown",
   "metadata": {},
   "source": [
    "There is a large amount of missing values in most columns of the train dataframe, with the rougher.output feature having multiple elements missing over 2000 values.\n",
    "\n",
    "I will begin by dropping missing values, then returning to see if I can fill them in."
   ]
  },
  {
   "cell_type": "code",
   "execution_count": null,
   "metadata": {},
   "outputs": [],
   "source": [
    "test_df.isna().sum()"
   ]
  },
  {
   "cell_type": "markdown",
   "metadata": {},
   "source": [
    "The test dataframe has much fewer missing values, with the highest amount missing being 353.\n",
    "\n",
    "I will begin by dropping missing values, then returning to see if I can fill them in."
   ]
  },
  {
   "cell_type": "code",
   "execution_count": null,
   "metadata": {},
   "outputs": [],
   "source": [
    "full_df.isna().sum().head(40)"
   ]
  },
  {
   "cell_type": "code",
   "execution_count": null,
   "metadata": {},
   "outputs": [],
   "source": [
    "training_df = train_df.dropna()"
   ]
  },
  {
   "cell_type": "code",
   "execution_count": null,
   "metadata": {},
   "outputs": [],
   "source": [
    "full_dummy = full_df.dropna()"
   ]
  },
  {
   "cell_type": "markdown",
   "metadata": {},
   "source": [
    "### Duplicate Data"
   ]
  },
  {
   "cell_type": "code",
   "execution_count": null,
   "metadata": {},
   "outputs": [],
   "source": [
    "train_df[train_df.duplicated()]"
   ]
  },
  {
   "cell_type": "code",
   "execution_count": null,
   "metadata": {},
   "outputs": [],
   "source": [
    "test_df[test_df.duplicated()]"
   ]
  },
  {
   "cell_type": "code",
   "execution_count": null,
   "metadata": {},
   "outputs": [],
   "source": [
    "full_df[full_df.duplicated()]"
   ]
  },
  {
   "cell_type": "markdown",
   "metadata": {},
   "source": [
    "There is no duplicate data to be considered."
   ]
  },
  {
   "cell_type": "markdown",
   "metadata": {},
   "source": [
    "## Data Preparation"
   ]
  },
  {
   "cell_type": "code",
   "execution_count": null,
   "metadata": {},
   "outputs": [],
   "source": [
    "test_missing = missing_feat.copy()\n",
    "test_missing.remove('rougher.output.recovery')\n",
    "test_missing.remove('final.output.recovery')\n",
    "print(test_missing)"
   ]
  },
  {
   "cell_type": "markdown",
   "metadata": {},
   "source": [
    "## Data Analysis"
   ]
  },
  {
   "cell_type": "markdown",
   "metadata": {},
   "source": [
    "### Change in Concentration"
   ]
  },
  {
   "cell_type": "code",
   "execution_count": 4,
   "metadata": {},
   "outputs": [],
   "source": [
    "def change_in_concentration(df):\n",
    "    stage_1_pb = df['primary_cleaner.output.concentrate_pb'] / df['rougher.output.concentrate_pb']\n",
    "    stage_2_pb = df['final.output.concentrate_pb'] / df['primary_cleaner.output.concentrate_pb']\n",
    "    \n",
    "    stage_1_au = df['primary_cleaner.output.concentrate_au'] / df['rougher.output.concentrate_au']\n",
    "    stage_2_au = df['final.output.concentrate_au'] / df['primary_cleaner.output.concentrate_au']\n",
    "    \n",
    "    stage_1_ag = df['primary_cleaner.output.concentrate_ag'] / df['rougher.output.concentrate_ag']\n",
    "    stage_2_ag = df['final.output.concentrate_ag'] / df['primary_cleaner.output.concentrate_ag']\n",
    "\n",
    "    return stage_1_pb, stage_2_pb, stage_1_au, stage_2_au, stage_1_ag, stage_2_ag"
   ]
  },
  {
   "cell_type": "code",
   "execution_count": 5,
   "metadata": {},
   "outputs": [
    {
     "data": {
      "text/html": [
       "<div>\n",
       "<style scoped>\n",
       "    .dataframe tbody tr th:only-of-type {\n",
       "        vertical-align: middle;\n",
       "    }\n",
       "\n",
       "    .dataframe tbody tr th {\n",
       "        vertical-align: top;\n",
       "    }\n",
       "\n",
       "    .dataframe thead th {\n",
       "        text-align: right;\n",
       "    }\n",
       "</style>\n",
       "<table border=\"1\" class=\"dataframe\">\n",
       "  <thead>\n",
       "    <tr style=\"text-align: right;\">\n",
       "      <th></th>\n",
       "      <th>rougher.output.concentrate_pb</th>\n",
       "      <th>primary_cleaner.output.concentrate_pb</th>\n",
       "      <th>final.output.concentrate_pb</th>\n",
       "    </tr>\n",
       "  </thead>\n",
       "  <tbody>\n",
       "    <tr>\n",
       "      <th>0</th>\n",
       "      <td>7.101074</td>\n",
       "      <td>10.389648</td>\n",
       "      <td>9.889648</td>\n",
       "    </tr>\n",
       "    <tr>\n",
       "      <th>1</th>\n",
       "      <td>7.278807</td>\n",
       "      <td>10.497069</td>\n",
       "      <td>9.968944</td>\n",
       "    </tr>\n",
       "    <tr>\n",
       "      <th>2</th>\n",
       "      <td>7.216833</td>\n",
       "      <td>10.354494</td>\n",
       "      <td>10.213995</td>\n",
       "    </tr>\n",
       "    <tr>\n",
       "      <th>3</th>\n",
       "      <td>7.175616</td>\n",
       "      <td>8.496563</td>\n",
       "      <td>9.977019</td>\n",
       "    </tr>\n",
       "    <tr>\n",
       "      <th>4</th>\n",
       "      <td>7.240205</td>\n",
       "      <td>9.986786</td>\n",
       "      <td>10.142511</td>\n",
       "    </tr>\n",
       "    <tr>\n",
       "      <th>...</th>\n",
       "      <td>...</td>\n",
       "      <td>...</td>\n",
       "      <td>...</td>\n",
       "    </tr>\n",
       "    <tr>\n",
       "      <th>22711</th>\n",
       "      <td>10.984003</td>\n",
       "      <td>12.445966</td>\n",
       "      <td>11.356233</td>\n",
       "    </tr>\n",
       "    <tr>\n",
       "      <th>22712</th>\n",
       "      <td>10.888213</td>\n",
       "      <td>12.623947</td>\n",
       "      <td>11.349355</td>\n",
       "    </tr>\n",
       "    <tr>\n",
       "      <th>22713</th>\n",
       "      <td>8.955135</td>\n",
       "      <td>12.633558</td>\n",
       "      <td>11.434366</td>\n",
       "    </tr>\n",
       "    <tr>\n",
       "      <th>22714</th>\n",
       "      <td>10.655377</td>\n",
       "      <td>12.012378</td>\n",
       "      <td>11.625587</td>\n",
       "    </tr>\n",
       "    <tr>\n",
       "      <th>22715</th>\n",
       "      <td>10.702148</td>\n",
       "      <td>11.650285</td>\n",
       "      <td>11.737832</td>\n",
       "    </tr>\n",
       "  </tbody>\n",
       "</table>\n",
       "<p>22716 rows × 3 columns</p>\n",
       "</div>"
      ],
      "text/plain": [
       "       rougher.output.concentrate_pb  primary_cleaner.output.concentrate_pb  \\\n",
       "0                           7.101074                              10.389648   \n",
       "1                           7.278807                              10.497069   \n",
       "2                           7.216833                              10.354494   \n",
       "3                           7.175616                               8.496563   \n",
       "4                           7.240205                               9.986786   \n",
       "...                              ...                                    ...   \n",
       "22711                      10.984003                              12.445966   \n",
       "22712                      10.888213                              12.623947   \n",
       "22713                       8.955135                              12.633558   \n",
       "22714                      10.655377                              12.012378   \n",
       "22715                      10.702148                              11.650285   \n",
       "\n",
       "       final.output.concentrate_pb  \n",
       "0                         9.889648  \n",
       "1                         9.968944  \n",
       "2                        10.213995  \n",
       "3                         9.977019  \n",
       "4                        10.142511  \n",
       "...                            ...  \n",
       "22711                    11.356233  \n",
       "22712                    11.349355  \n",
       "22713                    11.434366  \n",
       "22714                    11.625587  \n",
       "22715                    11.737832  \n",
       "\n",
       "[22716 rows x 3 columns]"
      ]
     },
     "execution_count": 5,
     "metadata": {},
     "output_type": "execute_result"
    }
   ],
   "source": [
    "pb_concentrate = pd.DataFrame()\n",
    "pb_concentrate['rougher.output.concentrate_pb'] = full_df['rougher.output.concentrate_pb']\n",
    "pb_concentrate['primary_cleaner.output.concentrate_pb'] = full_df['primary_cleaner.output.concentrate_pb']\n",
    "pb_concentrate['final.output.concentrate_pb'] = full_df['final.output.concentrate_pb']\n",
    "\n",
    "pb_concentrate"
   ]
  },
  {
   "cell_type": "code",
   "execution_count": null,
   "metadata": {},
   "outputs": [],
   "source": [
    "ag_concentrate = pd.DataFrame()\n",
    "ag_concentrate['rougher.output.concentrate_ag'] = full_df['rougher.output.concentrate_ag']\n",
    "ag_concentrate['primary_cleaner.output.concentrate_ag'] = full_df['primary_cleaner.output.concentrate_ag']\n",
    "ag_concentrate['final.output.concentrate_ag'] = full_df['final.output.concentrate_ag']\n",
    "\n",
    "ag_concentrate"
   ]
  },
  {
   "cell_type": "code",
   "execution_count": null,
   "metadata": {},
   "outputs": [],
   "source": [
    "au_concentrate = pd.DataFrame()\n",
    "au_concentrate['rougher.output.concentrate_au'] = full_df['rougher.output.concentrate_au']\n",
    "au_concentrate['primary_cleaner.output.concentrate_au'] = full_df['primary_cleaner.output.concentrate_au']\n",
    "au_concentrate['final.output.concentrate_au'] = full_df['final.output.concentrate_au']\n",
    "\n",
    "au_concentrate"
   ]
  },
  {
   "cell_type": "code",
   "execution_count": 6,
   "metadata": {},
   "outputs": [
    {
     "name": "stdout",
     "output_type": "stream",
     "text": [
      "Median change in concentration from Rougher Concentrate to Pb concentrate in 1st Stage: 1.3330650327725844\n",
      "Median change in concentration for Pb concentrate in 2nd Stage: 0.9639987637924591\n",
      "\n",
      "Median change in concentration from Rougher Concentrate to Ag concentrate in 1st Stage: 0.7152049083566736\n",
      "Median change in concentration for Ag concentrate in 2nd Stage: 0.5841103147930776\n",
      "\n",
      "Median change in concentration from Rougher Concentrate to Au concentrate in 1st Stage: 1.5854269457348003\n",
      "Median change in concentration for Au concentrate in 2nd Stage: 1.3619804853604403\n",
      "\n"
     ]
    }
   ],
   "source": [
    "stage_1_pb, stage_2_pb, stage_1_au, stage_2_au, stage_1_ag, stage_2_ag = change_in_concentration(full_df.dropna())\n",
    "\n",
    "print(\"Median change in concentration from Rougher Concentrate to Pb concentrate in 1st Stage:\", stage_1_pb.median())\n",
    "print(\"Median change in concentration for Pb concentrate in 2nd Stage:\", stage_2_pb.median())\n",
    "print()\n",
    "\n",
    "print(\"Median change in concentration from Rougher Concentrate to Ag concentrate in 1st Stage:\", stage_1_ag.median())\n",
    "print(\"Median change in concentration for Ag concentrate in 2nd Stage:\", stage_2_ag.median())\n",
    "print()\n",
    "\n",
    "print(\"Median change in concentration from Rougher Concentrate to Au concentrate in 1st Stage:\", stage_1_au.median())\n",
    "print(\"Median change in concentration for Au concentrate in 2nd Stage:\", stage_2_au.median())\n",
    "print()"
   ]
  },
  {
   "cell_type": "markdown",
   "metadata": {},
   "source": [
    "When examining the concentration levels of various metals across different purification stages, distinct patterns emerge for each metal. In Stage 1, lead (Pb) concentrations show a slight increase, followed by a minimal decrease in Stage 2. Silver (Ag), on the other hand, experiences significant decreases in concentration during both stages. Gold (Au) exhibits notable increases in both stages, with the rise being more prominent in Stage 1."
   ]
  },
  {
   "cell_type": "markdown",
   "metadata": {},
   "source": [
    "### Feed Distribution"
   ]
  },
  {
   "cell_type": "code",
   "execution_count": null,
   "metadata": {},
   "outputs": [],
   "source": [
    "mean_feed_size = test_df['rougher.input.feed_size'].mean()\n",
    "median_feed_size = test_df['rougher.input.feed_size'].median()\n",
    "std_feed_size = test_df['rougher.input.feed_size'].std()\n",
    "\n",
    "print(f\"Mean: {mean_feed_size}\")\n",
    "print(f\"Median: {median_feed_size}\")\n",
    "print(f\"Standard Deviation: {std_feed_size}\")"
   ]
  },
  {
   "cell_type": "code",
   "execution_count": null,
   "metadata": {},
   "outputs": [],
   "source": [
    "mean_feed_size = training_df['rougher.input.feed_size'].mean()\n",
    "median_feed_size = training_df['rougher.input.feed_size'].median()\n",
    "std_feed_size = training_df['rougher.input.feed_size'].std()\n",
    "\n",
    "print(f\"Mean: {mean_feed_size}\")\n",
    "print(f\"Median: {median_feed_size}\")\n",
    "print(f\"Standard Deviation: {std_feed_size}\")"
   ]
  },
  {
   "cell_type": "code",
   "execution_count": null,
   "metadata": {},
   "outputs": [],
   "source": [
    "sns.set(style=\"whitegrid\")\n",
    "\n",
    "plt.figure(figsize=(10, 6))\n",
    "\n",
    "sns.histplot(training_df['rougher.input.feed_size'], kde=True, bins=100, color='blue', label='train_df', stat='density')\n",
    "\n",
    "sns.histplot(test_df['rougher.input.feed_size'], kde=True, bins=100, color='green', label='test_df', stat='density')\n",
    "\n",
    "plt.title('Distribution of Rougher Input Feed Size')\n",
    "plt.xlabel('Feed Size')\n",
    "plt.ylabel('Density')\n",
    "plt.xlim(20, 100)\n",
    "\n",
    "plt.legend()\n",
    "\n",
    "plt.show()"
   ]
  },
  {
   "cell_type": "markdown",
   "metadata": {},
   "source": [
    "The feed particle size distributions in the training set and in the test set are similar enough for the model to be effective."
   ]
  },
  {
   "cell_type": "markdown",
   "metadata": {},
   "source": [
    "### Concentration of Substances"
   ]
  },
  {
   "cell_type": "code",
   "execution_count": 7,
   "metadata": {},
   "outputs": [
    {
     "data": {
      "image/png": "[encoded data removed]",
      "text/plain": [
       "<Figure size 1300x500 with 1 Axes>"
      ]
     },
     "metadata": {},
     "output_type": "display_data"
    }
   ],
   "source": [
    "sns.set(style=\"whitegrid\")\n",
    "\n",
    "plt.figure(figsize=(13, 5))\n",
    "\n",
    "sns.histplot(full_df['rougher.input.feed_ag'], kde=True, bins=50, color='blue', label='Ag')\n",
    "sns.histplot(full_df['rougher.input.feed_au'], kde=True, bins=50, color='yellow', label='Au')\n",
    "sns.histplot(full_df['rougher.input.feed_pb'], kde=True, bins=50, color='red', label='Pb')\n",
    "\n",
    "plt.title('Distribution of Rougher Input Feed Metals')\n",
    "plt.xlabel('Rougher Input Feed')\n",
    "plt.ylabel('Frequency')\n",
    "\n",
    "plt.legend(title='Metals')\n",
    "\n",
    "plt.show()"
   ]
  },
  {
   "cell_type": "code",
   "execution_count": null,
   "metadata": {},
   "outputs": [],
   "source": [
    "sns.set(style=\"whitegrid\")\n",
    "\n",
    "plt.figure(figsize=(13, 5))\n",
    "\n",
    "sns.histplot(full_df['rougher.output.concentrate_ag'], kde=True, bins=50, color='blue', label='Ag')\n",
    "sns.histplot(full_df['rougher.output.concentrate_au'], kde=True, bins=50, color='yellow', label='Au')\n",
    "sns.histplot(full_df['rougher.output.concentrate_pb'], kde=True, bins=50, color='red', label='Pb')\n",
    "\n",
    "plt.title('Distribution of Rougher Concentrate Metals')\n",
    "plt.xlabel('Rougher Concentrate')\n",
    "plt.ylabel('Frequency')\n",
    "\n",
    "plt.legend(title='Metals')\n",
    "\n",
    "plt.show()"
   ]
  },
  {
   "cell_type": "code",
   "execution_count": null,
   "metadata": {},
   "outputs": [],
   "source": [
    "sns.set(style=\"whitegrid\")\n",
    "\n",
    "plt.figure(figsize=(13, 5))\n",
    "\n",
    "sns.histplot(full_df['final.output.concentrate_ag'], kde=True, bins=50, color='blue', label='Ag')\n",
    "sns.histplot(full_df['final.output.concentrate_au'], kde=True, bins=50, color='yellow', label='Au')\n",
    "sns.histplot(full_df['final.output.concentrate_pb'], kde=True, bins=50, color='red', label='Pb')\n",
    "\n",
    "plt.title('Distribution of Final Concetrate')\n",
    "plt.xlabel('Final Concetrate')\n",
    "plt.ylabel('Frequency')\n",
    "\n",
    "plt.legend(title='Metals')\n",
    "\n",
    "plt.show()"
   ]
  },
  {
   "cell_type": "markdown",
   "metadata": {},
   "source": [
    "When analyzing the total concentrations of all substances at different stages, there is a large fequency of values that are 0. These are anomalies that will impact the training negatively and thus will be removed from both the training and test sets."
   ]
  },
  {
   "cell_type": "markdown",
   "metadata": {},
   "source": [
    "### Obtaining the SMAPE"
   ]
  },
  {
   "cell_type": "code",
   "execution_count": null,
   "metadata": {},
   "outputs": [],
   "source": [
    "def smape(target, predicted):\n",
    "\n",
    "    n = len(target)\n",
    "    if n != len(predicted):\n",
    "        raise ValueError(\"The lengths of target and predicted lists must be the same.\")\n",
    "    \n",
    "    smape_values = []\n",
    "    for a, f in zip(target, predicted):\n",
    "        if (abs(a) + abs(f)) == 0:\n",
    "            smape_values.append(0)\n",
    "        else:\n",
    "            smape = abs(f - a) / ((abs(a) + abs(f)) / 2)\n",
    "            smape_values.append(smape)\n",
    "    \n",
    "    return (100 / n) * sum(smape_values)"
   ]
  },
  {
   "cell_type": "code",
   "execution_count": null,
   "metadata": {},
   "outputs": [],
   "source": [
    "def get_final_smape(r,f):\n",
    "    \n",
    "    final_smape_value = 0.25 * r + 0.75 * f\n",
    "\n",
    "    return final_smape_value"
   ]
  },
  {
   "cell_type": "markdown",
   "metadata": {},
   "source": [
    "## Model Exploration"
   ]
  },
  {
   "cell_type": "code",
   "execution_count": null,
   "metadata": {},
   "outputs": [],
   "source": [
    "training_df.drop(columns=test_missing, inplace=True)\n",
    "\n",
    "training_df.info()"
   ]
  },
  {
   "cell_type": "code",
   "execution_count": null,
   "metadata": {},
   "outputs": [],
   "source": [
    "training_df.drop(columns=['date'], inplace=True)\n",
    "training_df"
   ]
  },
  {
   "cell_type": "code",
   "execution_count": null,
   "metadata": {},
   "outputs": [],
   "source": [
    "target1 = training_df['rougher.output.recovery']\n",
    "target2 = training_df['final.output.recovery']\n",
    "    \n",
    "features = training_df.drop(['rougher.output.recovery', 'final.output.recovery'], axis=1)"
   ]
  },
  {
   "cell_type": "code",
   "execution_count": null,
   "metadata": {},
   "outputs": [],
   "source": [
    "smape_scorer = make_scorer(smape, greater_is_better=False)"
   ]
  },
  {
   "cell_type": "code",
   "execution_count": null,
   "metadata": {},
   "outputs": [],
   "source": [
    "dummy_regr = DummyRegressor(strategy=\"median\")\n",
    "dummy_regr.fit(features, target1)\n",
    "dummy_prediction1 = dummy_regr.predict(features)\n",
    "\n",
    "dummy_regr.fit(features, target2)\n",
    "dummy_prediction2 = dummy_regr.predict(features)\n",
    "\n",
    "smape_rougher = smape(target1,dummy_prediction1)\n",
    "smape_final = smape(target2,dummy_prediction2)\n",
    "    \n",
    "final_smape = get_final_smape(smape_rougher,smape_final)\n",
    "\n",
    "print(\"Final sMAPE for model:\", final_smape)"
   ]
  },
  {
   "cell_type": "code",
   "execution_count": null,
   "metadata": {},
   "outputs": [],
   "source": [
    "param_grid = {\n",
    "    'max_depth': [1, 2, 3, 4, 5],\n",
    "    'splitter': ['best', 'random']\n",
    "}\n",
    "\n",
    "dtc_model = DecisionTreeRegressor(random_state=12345)\n",
    "\n",
    "grid_search = GridSearchCV(dtc_model, param_grid, cv=5, scoring=smape_scorer)\n",
    "\n",
    "grid_search.fit(features, target1)\n",
    "\n",
    "best_params = grid_search.best_params_\n",
    "\n",
    "best_dtc_model = DecisionTreeRegressor(**best_params, random_state=12345)\n",
    "\n",
    "scores_target1 = cross_val_score(best_dtc_model, features, target1, cv=5, scoring=smape_scorer)\n",
    "mean_score_target1 = -scores_target1.mean()\n",
    "\n",
    "scores_target2 = cross_val_score(best_dtc_model, features, target2, cv=5, scoring=smape_scorer)\n",
    "mean_score_target2 = -scores_target2.mean()\n",
    "\n",
    "final_smape = get_final_smape(mean_score_target1, mean_score_target2)\n",
    "\n",
    "print(\"Mean cross-validation score for target1:\", mean_score_target1)\n",
    "print(\"Mean cross-validation score for target2:\", mean_score_target2)\n",
    "print(\"Final sMAPE for model:\", final_smape)"
   ]
  },
  {
   "cell_type": "code",
   "execution_count": null,
   "metadata": {},
   "outputs": [],
   "source": [
    "param_grid = {\n",
    "    'n_estimators': [10, 50],\n",
    "    'max_depth': [None, 5, 10]\n",
    "}\n",
    "\n",
    "rfr_model = RandomForestRegressor(random_state=12345)\n",
    "\n",
    "grid_search = GridSearchCV(rfr_model, param_grid, cv=3, scoring=smape_scorer, n_jobs=-1)\n",
    "grid_search.fit(features, target1)\n",
    "\n",
    "best_rfr_params = grid_search.best_params_\n",
    "\n",
    "best_rfr_model = RandomForestRegressor(**best_rfr_params, random_state=12345)\n",
    "\n",
    "scores_target1 = cross_val_score(best_rfr_model, features, target1, cv=3, scoring=smape_scorer, n_jobs=-1)\n",
    "mean_score_target1 = -scores_target1.mean()\n",
    "\n",
    "scores_target2 = cross_val_score(best_rfr_model, features, target2, cv=3, scoring=smape_scorer, n_jobs=-1)\n",
    "mean_score_target2 = -scores_target2.mean()\n",
    "\n",
    "final_smape = get_final_smape(mean_score_target1, mean_score_target2)\n",
    "\n",
    "print(\"Mean cross-validation score for target1:\", mean_score_target1)\n",
    "print(\"Mean cross-validation score for target2:\", mean_score_target2)\n",
    "print(\"Final sMAPE for model:\", final_smape)"
   ]
  },
  {
   "cell_type": "code",
   "execution_count": null,
   "metadata": {},
   "outputs": [],
   "source": [
    "param_grid = {\n",
    "    'fit_intercept': [True, False],  \n",
    "    'normalize': [True, False]  \n",
    "}\n",
    "\n",
    "lr_model = LinearRegression()\n",
    "\n",
    "grid_search = GridSearchCV(lr_model, param_grid, cv=5, scoring=smape_scorer)\n",
    "\n",
    "grid_search.fit(features, target1)\n",
    "\n",
    "best_params = grid_search.best_params_\n",
    "\n",
    "best_lr_model = LinearRegression(**best_params)\n",
    "\n",
    "scores_target1 = cross_val_score(best_rfr_model, features, target1, cv=5, scoring=smape_scorer)\n",
    "mean_score_target1 = -scores_target1.mean()\n",
    "\n",
    "scores_target2 = cross_val_score(best_rfr_model, features, target2, cv=5, scoring=smape_scorer)\n",
    "mean_score_target2 = -scores_target2.mean()\n",
    "\n",
    "final_smape = get_final_smape(mean_score_target1, mean_score_target2)\n",
    "\n",
    "print(\"Mean cross-validation score for target1:\", mean_score_target1)\n",
    "print(\"Mean cross-validation score for target2:\", mean_score_target2)\n",
    "print(\"Final sMAPE for model:\", final_smape)"
   ]
  },
  {
   "cell_type": "markdown",
   "metadata": {},
   "source": [
    "After training various models, RandomForestRegressor was the model that performed the best and will be used to make predictions with the test set."
   ]
  },
  {
   "cell_type": "markdown",
   "metadata": {},
   "source": [
    "## Final Model"
   ]
  },
  {
   "cell_type": "code",
   "execution_count": null,
   "metadata": {},
   "outputs": [],
   "source": [
    "outputs_df = pd.DataFrame()\n",
    "outputs_df['date'] = full_df['date']\n",
    "outputs_df['rougher.output.recovery'] = full_df['rougher.output.recovery']\n",
    "outputs_df['final.output.recovery'] = full_df['final.output.recovery']\n",
    "outputs_df"
   ]
  },
  {
   "cell_type": "code",
   "execution_count": null,
   "metadata": {},
   "outputs": [],
   "source": [
    "test_final = test_df.merge(outputs_df, on='date', how='left')\n",
    "test_final"
   ]
  },
  {
   "cell_type": "code",
   "execution_count": null,
   "metadata": {},
   "outputs": [],
   "source": [
    "test_final = test_final.dropna()\n",
    "test_final = test_final.drop(columns=['date'])"
   ]
  },
  {
   "cell_type": "code",
   "execution_count": null,
   "metadata": {},
   "outputs": [],
   "source": [
    "f_target1 = test_final['rougher.output.recovery']\n",
    "f_target2 = test_final['final.output.recovery']\n",
    "    \n",
    "f_features = test_final.drop(['rougher.output.recovery', 'final.output.recovery'], axis=1)"
   ]
  },
  {
   "cell_type": "code",
   "execution_count": null,
   "metadata": {},
   "outputs": [],
   "source": [
    "dummy_regr = DummyRegressor(strategy=\"median\")\n",
    "dummy_regr.fit(features, target1)\n",
    "dummy_prediction1 = dummy_regr.predict(f_features)\n",
    "\n",
    "dummy_regr.fit(features, target2)\n",
    "dummy_prediction2 = dummy_regr.predict(f_features)\n",
    "\n",
    "smape_rougher = smape(f_target1,dummy_prediction1)\n",
    "smape_final = smape(f_target2,dummy_prediction2)\n",
    "    \n",
    "final_smape = get_final_smape(smape_rougher,smape_final)\n",
    "\n",
    "print(\"Final sMAPE for model:\", final_smape)"
   ]
  },
  {
   "cell_type": "code",
   "execution_count": null,
   "metadata": {},
   "outputs": [],
   "source": [
    "best_rfr_model.fit(features, target1)\n",
    "predicted1 = best_rfr_model.predict(f_features)\n",
    "    \n",
    "best_rfr_model.fit(features, target2)\n",
    "predicted2 = best_rfr_model.predict(f_features)\n",
    "    \n",
    "smape_rougher = smape(f_target1,predicted1)\n",
    "smape_final = smape(f_target2,predicted2)\n",
    "    \n",
    "final_smape = get_final_smape(smape_rougher,smape_final)\n",
    "\n",
    "#print(\"Mean cross-validation score:\", mean_score)\n",
    "print(\"Final sMAPE for model:\", final_smape)"
   ]
  },
  {
   "cell_type": "code",
   "execution_count": null,
   "metadata": {},
   "outputs": [],
   "source": [
    "final_predictions_targets = pd.DataFrame()\n",
    "final_predictions_targets['predicted rougher recovery'] = predicted1\n",
    "final_predictions_targets['acutal rougher recovery'] = target1\n",
    "\n",
    "final_predictions_targets['predicted final recovery'] = predicted2\n",
    "final_predictions_targets['actual final recovery'] = target2\n",
    "final_predictions_targets"
   ]
  },
  {
   "cell_type": "markdown",
   "metadata": {},
   "source": [
    "## Conclusion"
   ]
  },
  {
   "cell_type": "markdown",
   "metadata": {},
   "source": [
    "The model exhibits strong performance with a final sMAPE of 7.2264, indicating accurate predictions. The mean cross-validation sMAPE of 12.2756 suggests that the model's performance is generally robust, although there is some variability between cross-validation and final test performance. The consistency between predictions and actual values in the provided data further supports the conclusion that the model is making reliable predictions. These results imply that the model is well-calibrated and performs well in both cross-validation and final testing scenarios, with better performance observed in the final test set. The relatively low sMAPE values reflect a high level of accuracy in the model's forecasts."
   ]
  }
 ],
 "metadata": {
  "kernelspec": {
   "display_name": "Python 3",
   "language": "python",
   "name": "python3"
  },
  "language_info": {
   "codemirror_mode": {
    "name": "ipython",
    "version": 3
   },
   "file_extension": ".py",
   "mimetype": "text/x-python",
   "name": "python",
   "nbconvert_exporter": "python",
   "pygments_lexer": "ipython3",
   "version": "3.12.1"
  }
 },
 "nbformat": 4,
 "nbformat_minor": 2
}
