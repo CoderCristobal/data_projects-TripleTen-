{
 "cells": [
  {
   "cell_type": "markdown",
   "metadata": {},
   "source": [
    "# Goals and Overview"
   ]
  },
  {
   "cell_type": "markdown",
   "metadata": {},
   "source": [
    "The goal of this project is to build a model that will help to pick the region with the highest profit margin and find the best place for a new well."
   ]
  },
  {
   "cell_type": "markdown",
   "metadata": {},
   "source": [
    "# Project"
   ]
  },
  {
   "cell_type": "markdown",
   "metadata": {},
   "source": [
    "## Initialization"
   ]
  },
  {
   "cell_type": "code",
   "execution_count": null,
   "metadata": {},
   "outputs": [],
   "source": [
    "# Loading necessary libraries.\n",
    "import pandas as pd\n",
    "from sklearn.model_selection import train_test_split, GridSearchCV\n",
    "from sklearn.tree import DecisionTreeClassifier\n",
    "from sklearn.metrics import mean_squared_error, r2_score, make_scorer\n",
    "from sklearn.ensemble import RandomForestClassifier\n",
    "from sklearn.preprocessing import OrdinalEncoder, StandardScaler\n",
    "from sklearn.linear_model import LinearRegression\n",
    "from sklearn.utils import shuffle\n",
    "import matplotlib.pyplot as plt\n",
    "import numpy as np\n",
    "from scipy import stats as st\n",
    "from sklearn.model_selection import cross_val_score"
   ]
  },
  {
   "cell_type": "markdown",
   "metadata": {},
   "source": [
    "## Reading Data"
   ]
  },
  {
   "cell_type": "code",
   "execution_count": null,
   "metadata": {},
   "outputs": [],
   "source": [
    "# Reading Data.\n",
    "data00 = pd.read_csv('./datasets/geo_data_0.csv')\n",
    "data01 = pd.read_csv('./datasets/geo_data_1.csv')\n",
    "data02 = pd.read_csv('./datasets/geo_data_2.csv')"
   ]
  },
  {
   "cell_type": "code",
   "execution_count": null,
   "metadata": {},
   "outputs": [],
   "source": [
    "data00"
   ]
  },
  {
   "cell_type": "code",
   "execution_count": null,
   "metadata": {},
   "outputs": [],
   "source": [
    "data01"
   ]
  },
  {
   "cell_type": "code",
   "execution_count": null,
   "metadata": {},
   "outputs": [],
   "source": [
    "data02"
   ]
  },
  {
   "cell_type": "code",
   "execution_count": null,
   "metadata": {},
   "outputs": [],
   "source": [
    "data00.info()"
   ]
  },
  {
   "cell_type": "code",
   "execution_count": null,
   "metadata": {},
   "outputs": [],
   "source": [
    "data01.info()"
   ]
  },
  {
   "cell_type": "code",
   "execution_count": null,
   "metadata": {},
   "outputs": [],
   "source": [
    "data02.info()"
   ]
  },
  {
   "cell_type": "markdown",
   "metadata": {},
   "source": [
    "All data looks right and complete."
   ]
  },
  {
   "cell_type": "markdown",
   "metadata": {},
   "source": [
    "__Missing Values__"
   ]
  },
  {
   "cell_type": "code",
   "execution_count": null,
   "metadata": {},
   "outputs": [],
   "source": [
    "data00.isna().sum()"
   ]
  },
  {
   "cell_type": "code",
   "execution_count": null,
   "metadata": {},
   "outputs": [],
   "source": [
    "data01.isna().sum()"
   ]
  },
  {
   "cell_type": "code",
   "execution_count": null,
   "metadata": {},
   "outputs": [],
   "source": [
    "data02.isna().sum()"
   ]
  },
  {
   "cell_type": "markdown",
   "metadata": {},
   "source": [
    "There are no missing values in any dataframe."
   ]
  },
  {
   "cell_type": "markdown",
   "metadata": {},
   "source": [
    "__Duplicate Values__"
   ]
  },
  {
   "cell_type": "code",
   "execution_count": null,
   "metadata": {},
   "outputs": [],
   "source": [
    "data00[data00.duplicated()]"
   ]
  },
  {
   "cell_type": "code",
   "execution_count": null,
   "metadata": {},
   "outputs": [],
   "source": [
    "data00[data01.duplicated()]"
   ]
  },
  {
   "cell_type": "code",
   "execution_count": null,
   "metadata": {},
   "outputs": [],
   "source": [
    "data00[data02.duplicated()]"
   ]
  },
  {
   "cell_type": "markdown",
   "metadata": {},
   "source": [
    "There are no duplicates in any dataframe."
   ]
  },
  {
   "cell_type": "markdown",
   "metadata": {},
   "source": [
    "## Data Preparation"
   ]
  },
  {
   "cell_type": "code",
   "execution_count": null,
   "metadata": {},
   "outputs": [],
   "source": [
    "# Removing from 'df00' the 'id' column.\n",
    "df00 = data00.drop('id', axis=1)\n",
    "\n",
    "# Removing from 'df01' the 'id' column.\n",
    "df01 = data01.drop('id', axis=1)\n",
    "\n",
    "# Removing from 'df02' the 'id' column.\n",
    "df02 = data02.drop('id', axis=1)"
   ]
  },
  {
   "cell_type": "code",
   "execution_count": null,
   "metadata": {},
   "outputs": [],
   "source": [
    "df00.info()"
   ]
  },
  {
   "cell_type": "code",
   "execution_count": null,
   "metadata": {},
   "outputs": [],
   "source": [
    "df01.info()"
   ]
  },
  {
   "cell_type": "code",
   "execution_count": null,
   "metadata": {},
   "outputs": [],
   "source": [
    "df02.info()"
   ]
  },
  {
   "cell_type": "markdown",
   "metadata": {},
   "source": [
    "Apart from removing the 'id' column, nothing else was done to modify each region's data.\n",
    "\n",
    "'id' was removed because it has no qualities that correlate with other features or target."
   ]
  },
  {
   "cell_type": "markdown",
   "metadata": {},
   "source": [
    "### Data Splitting"
   ]
  },
  {
   "cell_type": "code",
   "execution_count": null,
   "metadata": {},
   "outputs": [],
   "source": [
    "def split_data(df):\n",
    "    # Assigning to 'target' the 'product' column of the dataframe.\n",
    "    target = df['product']\n",
    "\n",
    "    # Assigning to 'features' all other columns but 'product' from the dataframe.\n",
    "    features = df.drop('product', axis=1)\n",
    "\n",
    "    # Splitting data into train, validation, and test sets\n",
    "    features_train, features_valid, target_train, target_valid = train_test_split(\n",
    "        features, target, test_size=0.25, random_state=12345\n",
    "    )\n",
    "    \n",
    "    return features_train, features_valid, target_train, target_valid\n",
    "\n",
    "# Splitting data for df00\n",
    "df00_features_train, df00_features_valid, df00_target_train, df00_target_valid = split_data(df00)\n",
    "\n",
    "# Splitting data for df01\n",
    "df01_features_train, df01_features_valid, df01_target_train, df01_target_valid = split_data(df01)\n",
    "\n",
    "# Splitting data for df02\n",
    "df02_features_train, df02_features_valid, df02_target_train, df02_target_valid = split_data(df02)"
   ]
  },
  {
   "cell_type": "markdown",
   "metadata": {},
   "source": [
    "Data for each region has been split into training and validation sets."
   ]
  },
  {
   "cell_type": "markdown",
   "metadata": {},
   "source": [
    "## Model Exploration"
   ]
  },
  {
   "cell_type": "code",
   "execution_count": null,
   "metadata": {},
   "outputs": [],
   "source": [
    "def train_model(features_train, target_train, features_valid, target_valid):\n",
    "    # Training Model using 'features_train' and 'target_train'.\n",
    "    lr_model = LinearRegression()\n",
    "    lr_model.fit(features_train, target_train)\n",
    "\n",
    "    # Assigning to 'predicted_valid' model predictions using 'features_valid'.\n",
    "    predicted_valid = lr_model.predict(features_valid)\n",
    "\n",
    "    # Calculate RMSE on validation set\n",
    "    rmse = np.sqrt(mean_squared_error(target_valid, predicted_valid))\n",
    "    r2 = r2_score(target_valid, predicted_valid)\n",
    "    avor = predicted_valid.mean()\n",
    "\n",
    "    print(\"RMSE of the linear regression model on the validation set:\", rmse)\n",
    "    print(\"R2 score of the linear regression model on the validation set:\", r2)\n",
    "    print(\"Estimated Average Volume of Reserves:\", avor)\n",
    "    print(\"Estimated Average Value of Product:\", avor * 4500)\n",
    "    \n",
    "    return predicted_valid, target_valid\n",
    "\n",
    "# Train and evaluate model for df00\n",
    "print(\"Region 1 Evaluation\")\n",
    "df00_predicted_valid, df00_target_valid = train_model(df00_features_train, df00_target_train, df00_features_valid, df00_target_valid)\n",
    "print()\n",
    "\n",
    "# Train and evaluate model for df01\n",
    "print(\"Region 2 Evaluation\")\n",
    "df01_predicted_valid, df01_target_valid = train_model(df01_features_train, df01_target_train, df01_features_valid, df01_target_valid)\n",
    "print()\n",
    "\n",
    "# Train and evaluate model for df02\n",
    "print(\"Region 3 Evaluation\")\n",
    "df02_predicted_valid, df02_target_valid = train_model(df02_features_train, df02_target_train, df02_features_valid, df02_target_valid)\n",
    "print()"
   ]
  },
  {
   "cell_type": "markdown",
   "metadata": {},
   "source": [
    "The region 1 model has a RMSE of 37.57 and an R2 of .27, and has a decent estimated average volume of reserves(92.59) despite the variability in the predictions."
   ]
  },
  {
   "cell_type": "markdown",
   "metadata": {},
   "source": [
    "The region 2 model does exceptionally well in terms of both RMSE and R2 Score, however the estimated average volume of reserves is much lower than the other 2 regions(68.72 units)."
   ]
  },
  {
   "cell_type": "markdown",
   "metadata": {},
   "source": [
    "The region 3 model has room for improvement with an RMSE of 40.02 units and R2 Score 0.20, and despite the highest estimated average volume of reserves(94.96 units) the low scores indicate the model may not fully capture the variability in the data."
   ]
  },
  {
   "cell_type": "markdown",
   "metadata": {},
   "source": [
    "## Profit Calculation"
   ]
  },
  {
   "cell_type": "code",
   "execution_count": null,
   "metadata": {},
   "outputs": [],
   "source": [
    "budget = 100000000\n",
    "\n",
    "new_wells = 200\n",
    "\n",
    "unit_value = 4500\n",
    "\n",
    "well_cost = round(budget/new_wells, 2)\n",
    "\n",
    "product_required = round(well_cost/unit_value, 2)"
   ]
  },
  {
   "cell_type": "code",
   "execution_count": null,
   "metadata": {},
   "outputs": [],
   "source": [
    "print('Budget available per New Well:', well_cost, '$')\n",
    "print('Volume of Reserves required to develop well without losses:', product_required)"
   ]
  },
  {
   "cell_type": "code",
   "execution_count": null,
   "metadata": {},
   "outputs": [],
   "source": [
    "def profit(target, predictions, count):\n",
    "    # Sorting predictions and selecting top 'count' values.\n",
    "    sorted_predictions = predictions.sort_values(ascending=False)\n",
    "    selected = target[sorted_predictions.index][:count]\n",
    "    \n",
    "    # Calculating profit.\n",
    "    profit = (selected * unit_value - well_cost).sum()\n",
    "    \n",
    "    # Calculating losses and loss count.\n",
    "    losses = (selected[selected * unit_value - well_cost <= 0] * unit_value - well_cost).sum()\n",
    "    loss_count = selected[selected * unit_value - well_cost <= 0].count()\n",
    "    \n",
    "    loss_percent = (loss_count / count) * 100\n",
    "    \n",
    "    return profit, loss_percent, losses"
   ]
  },
  {
   "cell_type": "code",
   "execution_count": null,
   "metadata": {},
   "outputs": [],
   "source": [
    "def eval_region(target, predictions):\n",
    "    \n",
    "    profits = []\n",
    "    losses = []\n",
    "    precents = []\n",
    "    \n",
    "    for i in range(1000):\n",
    "        target_subsample = target.sample(n=200, replace=True, random_state=state)\n",
    "        probs_subsample = predictions[target_subsample.index]\n",
    "    \n",
    "        plus, perc, minus = profit(target_subsample, probs_subsample, 200)\n",
    "\n",
    "        profits.append(plus)\n",
    "        precents.append(perc)\n",
    "        losses.append(minus)\n",
    "\n",
    "    profits = pd.Series(profits)\n",
    "    losses = pd.Series(losses)\n",
    "    risk_of_losses = pd.Series(precents)\n",
    "\n",
    "    avg_profit = round(profits.mean(), 2)\n",
    "    expected_profit = round(profits.quantile(0.01), 2)\n",
    "    risk_loss = round(risk_of_losses.mean(), 2)\n",
    "\n",
    "    print(\"Average profit:\", avg_profit, \"$\")\n",
    "    print(\"Profit 1% quantile:\" ,expected_profit, \"$\")\n",
    "    print()\n",
    "    print(\"Risk of losses:\", risk_loss, \"%\")\n",
    "    print('Average Losses: ', round(losses.mean(), 2))"
   ]
  },
  {
   "cell_type": "code",
   "execution_count": null,
   "metadata": {},
   "outputs": [],
   "source": [
    "state = np.random.RandomState(12345)"
   ]
  },
  {
   "cell_type": "markdown",
   "metadata": {},
   "source": [
    "### Region 1"
   ]
  },
  {
   "cell_type": "code",
   "execution_count": null,
   "metadata": {},
   "outputs": [],
   "source": [
    "print(\"Estimated Average Volume of Reserves for this Region:\", round(df00_predicted_valid.mean(), 2), '/', product_required)"
   ]
  },
  {
   "cell_type": "code",
   "execution_count": null,
   "metadata": {},
   "outputs": [],
   "source": [
    "predictions = pd.Series(df00_predicted_valid)\n",
    "predictions"
   ]
  },
  {
   "cell_type": "code",
   "execution_count": null,
   "metadata": {},
   "outputs": [],
   "source": [
    "target = df00_target_valid.reset_index(drop=True)\n",
    "target"
   ]
  },
  {
   "cell_type": "code",
   "execution_count": null,
   "metadata": {},
   "outputs": [],
   "source": [
    "# Selecting TOP 500 Wells.\n",
    "sorted_predictions = predictions.sort_values(ascending=False)\n",
    "selected = target[sorted_predictions.index][:500]\n",
    "select_predictions = sorted_predictions.head(500).reset_index(drop=True)\n",
    "select_answer = selected.reset_index(drop=True)"
   ]
  },
  {
   "cell_type": "code",
   "execution_count": null,
   "metadata": {},
   "outputs": [],
   "source": [
    "print(\"Expected Average Volume of Reserves for select wells based on predictions:\", round(select_predictions.mean(), 2))\n",
    "print(\"Average Volume of Reserves in selected wells:\", round(selected.mean(), 2))"
   ]
  },
  {
   "cell_type": "markdown",
   "metadata": {},
   "source": [
    "The expected average volume of reserves for the top 500 wells based on predicted product is 148.37 units, well above the required 111.11 units of product to cover the well cost. On average, profit can be expected from the top selected wells based on model predictions."
   ]
  },
  {
   "cell_type": "code",
   "execution_count": null,
   "metadata": {},
   "outputs": [],
   "source": [
    "eval_region(select_answer, select_predictions)"
   ]
  },
  {
   "cell_type": "markdown",
   "metadata": {},
   "source": [
    "Based on the evaluation of the region, there is a 99% probablity of a profit of at least  23,279,289,𝑤𝑖𝑡ℎ 𝑎𝑛 𝑎𝑣𝑒𝑟𝑎𝑔𝑒 𝑜𝑓\n",
    " 30,557,524.\n",
    "\n",
    "However, there is potential for losses of 11.8% with an average of $1,953,354 lost."
   ]
  },
  {
   "cell_type": "code",
   "execution_count": null,
   "metadata": {},
   "outputs": [],
   "source": [
    "confidence_interval = st.t.interval(\n",
    "    0.95, len(select_answer)-1, loc=select_answer.mean(), scale=st.sem(select_answer))\n",
    "\n",
    "print('95% confidence interval:', confidence_interval)"
   ]
  },
  {
   "cell_type": "code",
   "execution_count": null,
   "metadata": {},
   "outputs": [],
   "source": [
    "# Convert the series into a DataFrame\n",
    "df = pd.DataFrame(select_predictions, columns=['predicted_product'])\n",
    "\n",
    "# Add a new column by multiplying the original values by 4500\n",
    "df['predicted_value'] = round(df['predicted_product'] * 4500, 2)\n",
    "\n",
    "df['actual_product'] = round((select_answer), 2)\n",
    "\n",
    "df['actual_value'] = round((select_answer * unit_value), 2)\n",
    "\n",
    "df"
   ]
  },
  {
   "cell_type": "markdown",
   "metadata": {},
   "source": [
    "### Region 2"
   ]
  },
  {
   "cell_type": "code",
   "execution_count": null,
   "metadata": {},
   "outputs": [],
   "source": [
    "print(\"Estimated Average Volume of Reserves for this Region:\", round(df01_predicted_valid.mean(), 2), '/', product_required)"
   ]
  },
  {
   "cell_type": "markdown",
   "metadata": {},
   "source": [
    "The average volume of reserves for Region 2 does not meet the required product target necessary for operating without losses, having an average of 68 units out of the 111 necessary to operate without losses."
   ]
  },
  {
   "cell_type": "code",
   "execution_count": null,
   "metadata": {},
   "outputs": [],
   "source": [
    "predictions = pd.Series(df01_predicted_valid)\n",
    "predictions"
   ]
  },
  {
   "cell_type": "code",
   "execution_count": null,
   "metadata": {},
   "outputs": [],
   "source": [
    "target = df01_target_valid.reset_index(drop=True)\n",
    "target"
   ]
  },
  {
   "cell_type": "code",
   "execution_count": null,
   "metadata": {},
   "outputs": [],
   "source": [
    "#Selecting TOP 500 Wells\n",
    "\n",
    "sorted_predictions = predictions.sort_values(ascending=False)\n",
    "selected = target[sorted_predictions.index][:500]\n",
    "select_predictions = sorted_predictions.head(500).reset_index(drop=True)\n",
    "select_answer = selected.reset_index(drop=True)"
   ]
  },
  {
   "cell_type": "code",
   "execution_count": null,
   "metadata": {},
   "outputs": [],
   "source": [
    "print(\"Expected Volume of Reserves based on predictions:\", select_predictions.mean())\n",
    "print(\"Average Volume of Reserves in selected wells:\", round(selected.mean(), 2))"
   ]
  },
  {
   "cell_type": "markdown",
   "metadata": {},
   "source": [
    "The expected average volume of reserves for the top 500 wells based on predicted product is 138.39 units, meeting the required 111.11 units of product to cover the well cost. On average, profit can be expected from the top selected wells based on model predictions."
   ]
  },
  {
   "cell_type": "code",
   "execution_count": null,
   "metadata": {},
   "outputs": [],
   "source": [
    "eval_region(select_answer, select_predictions)"
   ]
  },
  {
   "cell_type": "markdown",
   "metadata": {},
   "source": [
    "Based on the evaluation of the region, there is a 99% probablity of a profit of at least  24,150,866.97,𝑤𝑖𝑡ℎ𝑎𝑛𝑎𝑣𝑒𝑟𝑎𝑔𝑒𝑜𝑓\n",
    " 24,150,781.\n",
    "\n",
    "There is a 0% risk of loss and and expected average for this region.\n",
    "\n",
    "This model and region had a great RMSE score, and was expected to predict with accuracy"
   ]
  },
  {
   "cell_type": "code",
   "execution_count": null,
   "metadata": {},
   "outputs": [],
   "source": [
    "confidence_interval = st.t.interval(\n",
    "    0.95, len(select_answer)-1, loc=select_answer.mean(), scale=st.sem(select_answer))\n",
    "\n",
    "print('95% confidence interval:', confidence_interval)"
   ]
  },
  {
   "cell_type": "code",
   "execution_count": null,
   "metadata": {},
   "outputs": [],
   "source": [
    "# Convert the series into a DataFrame\n",
    "df = pd.DataFrame(select_predictions, columns=['predicted_product'])\n",
    "\n",
    "# Add a new column by multiplying the original values by 4500\n",
    "df['predicted_value'] = round(df['predicted_product'] * 4500, 2)\n",
    "\n",
    "df['actual_product'] = round((select_answer), 2)\n",
    "\n",
    "df['actual_value'] = round((select_answer * unit_value), 2)\n",
    "\n",
    "df"
   ]
  },
  {
   "cell_type": "markdown",
   "metadata": {},
   "source": [
    "### Region 3"
   ]
  },
  {
   "cell_type": "code",
   "execution_count": null,
   "metadata": {},
   "outputs": [],
   "source": [
    "print(\"Estimated Average Volume of Reserves for this Region:\", df02_predicted_valid.mean())"
   ]
  },
  {
   "cell_type": "markdown",
   "metadata": {},
   "source": [
    "The average volume of reserves for Region 3 is close but does not meet the required product target necessary for operating without losses, lacking by around 20 units of product."
   ]
  },
  {
   "cell_type": "code",
   "execution_count": null,
   "metadata": {},
   "outputs": [],
   "source": [
    "predictions = pd.Series(df02_predicted_valid)\n",
    "predictions"
   ]
  },
  {
   "cell_type": "code",
   "execution_count": null,
   "metadata": {},
   "outputs": [],
   "source": [
    "target = df02_target_valid.reset_index(drop=True)\n",
    "target"
   ]
  },
  {
   "cell_type": "code",
   "execution_count": null,
   "metadata": {},
   "outputs": [],
   "source": [
    "sorted_predictions = predictions.sort_values(ascending=False)\n",
    "selected = target[sorted_predictions.index][:500]\n",
    "select_predictions = sorted_predictions.head(500).reset_index(drop=True)\n",
    "select_answer = selected.reset_index(drop=True)"
   ]
  },
  {
   "cell_type": "code",
   "execution_count": null,
   "metadata": {},
   "outputs": [],
   "source": [
    "print(\"Expected Volume of Reserves based on predictions:\", select_predictions.mean())\n",
    "print(\"Average Volume of Reserves in selected wells:\", round(selected.mean(), 2))"
   ]
  },
  {
   "cell_type": "markdown",
   "metadata": {},
   "source": [
    "The expected average volume of reserves for the top 500 wells based on predicted product is 142.32 units, meeting the required 111.11 units of product to cover the well cost. On average, profit can be expected from the top selected wells based on model predictions."
   ]
  },
  {
   "cell_type": "code",
   "execution_count": null,
   "metadata": {},
   "outputs": [],
   "source": [
    "eval_region(select_answer, select_predictions)"
   ]
  },
  {
   "cell_type": "markdown",
   "metadata": {},
   "source": [
    "Based on the evaluation of the region, there is a 99% probablity of a profit of at least  16,839,580,𝑤𝑖𝑡ℎ𝑎𝑛𝑎𝑣𝑒𝑟𝑎𝑔𝑒𝑜𝑓\n",
    " 25,597,463.\n",
    "\n",
    "There is a 16.77% risk of loss and and expected average loss of $3,270,263.48 for this region."
   ]
  },
  {
   "cell_type": "code",
   "execution_count": null,
   "metadata": {},
   "outputs": [],
   "source": [
    "confidence_interval = st.t.interval(\n",
    "    0.95, len(select_answer)-1, loc=select_answer.mean(), scale=st.sem(select_answer))\n",
    "\n",
    "print('95% confidence interval:', confidence_interval)"
   ]
  },
  {
   "cell_type": "markdown",
   "metadata": {},
   "source": [
    "## Conclusion"
   ]
  },
  {
   "cell_type": "markdown",
   "metadata": {},
   "source": [
    "Region 2 is the top choice for new wells due to many metrics such as the lowest risk of loss at 0%, the highest expected profit of $24,150,866.97, and while it does not have the highest average profit, it is the most consistent region.\n",
    "\n",
    "Region 1 is the 2nd choice due to the highest average profit of  30,557,524,𝑎𝑛𝑑ℎ𝑎𝑠𝑎𝑔𝑜𝑜𝑑𝑒𝑥𝑝𝑒𝑐𝑡𝑒𝑑𝑝𝑟𝑜𝑓𝑖𝑡𝑜𝑓\n",
    " 23,279,289, but has more risk of loss than region 2.\n",
    "\n",
    "Region 3 has the lowest profit values and the highest risk of loss chances, omitting it from futher consideration."
   ]
  }
 ],
 "metadata": {
  "kernelspec": {
   "display_name": "Python 3",
   "language": "python",
   "name": "python3"
  },
  "language_info": {
   "name": "python",
   "version": "3.12.1"
  }
 },
 "nbformat": 4,
 "nbformat_minor": 2
}
